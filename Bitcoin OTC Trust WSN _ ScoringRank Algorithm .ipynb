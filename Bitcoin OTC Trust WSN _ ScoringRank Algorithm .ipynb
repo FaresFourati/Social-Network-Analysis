{
 "cells": [
  {
   "cell_type": "markdown",
   "metadata": {},
   "source": [
    "<h1 align=center><font size = 5>Bitcoin OTC trust weighted signed network\n",
    "</font></h1>"
   ]
  },
  {
   "cell_type": "markdown",
   "metadata": {},
   "source": [
    "<h0 align=left><font size = 3>#bitcoin-otc is an over-the-counter marketplace for trading with bitcoin. The marketplace is located in #bitcoin-otc channel on the freenode IRC network. </font></h0>"
   ]
  },
  {
   "cell_type": "markdown",
   "metadata": {},
   "source": [
    "https://www.bitcoin-otc.com/"
   ]
  },
  {
   "cell_type": "markdown",
   "metadata": {},
   "source": [
    "<h0 align=left><font size = 3>To complement the OTC marketplace, they offer a web of trust service. Due to the p2p nature of OTC transactions, people are exposed to counterparty risk. To mitigate this risk, they need to have access to their counterparty's reputation and trade history. This is precisely the kind of information that the OTC web of trust provides. </font></h0>"
   ]
  },
  {
   "cell_type": "markdown",
   "metadata": {},
   "source": [
    "## Data Set information "
   ]
  },
  {
   "cell_type": "markdown",
   "metadata": {},
   "source": [
    "<h0 align=left><font size = 3>This is who-trusts-whom network of people who trade using Bitcoin on a platform called Bitcoin OTC. Since Bitcoin users are anonymous, there is a need to maintain a record of users' reputation to prevent transactions with fraudulent and risky users. Members of Bitcoin OTC rate other members in a scale of -10 (total distrust) to +10 (total trust) in steps of 1. This is the first explicit weighted signed directed network available for research. </font></h0>"
   ]
  },
  {
   "cell_type": "markdown",
   "metadata": {},
   "source": [
    "## Data format "
   ]
  },
  {
   "cell_type": "markdown",
   "metadata": {},
   "source": [
    "<h0 align=left><font size = 3>Each line has one rating, sorted by time, with the following format:\n",
    "\n",
    "SOURCE, TARGET, RATING, TIME</font></h0>\n"
   ]
  },
  {
   "cell_type": "markdown",
   "metadata": {},
   "source": [
    "## Necessary libraries "
   ]
  },
  {
   "cell_type": "code",
   "execution_count": 1,
   "metadata": {},
   "outputs": [],
   "source": [
    "import pandas as pd\n",
    "import matplotlib.pyplot as plt\n",
    "import seaborn as sns\n",
    "import numpy as np\n",
    "from scipy.stats import norm\n",
    "from sklearn.preprocessing import StandardScaler\n",
    "from scipy import stats\n",
    "import warnings\n",
    "warnings.filterwarnings('ignore')\n",
    "%matplotlib inline"
   ]
  },
  {
   "cell_type": "markdown",
   "metadata": {},
   "source": [
    "## Drawing functions "
   ]
  },
  {
   "cell_type": "code",
   "execution_count": 2,
   "metadata": {},
   "outputs": [],
   "source": [
    "def draw_graph (G_sample):\n",
    "    # draw the network G1\n",
    "    fig= plt.figure(figsize=(20,15))\n",
    "    nx.draw_spring(G_sample,node_color = 'g',with_labels=False,node_size=150,edge_color='Gray',alpha=0.7)\n",
    "    return "
   ]
  },
  {
   "cell_type": "markdown",
   "metadata": {},
   "source": [
    "## Data preparations"
   ]
  },
  {
   "cell_type": "code",
   "execution_count": 3,
   "metadata": {},
   "outputs": [],
   "source": [
    "data = pd.read_csv('data.csv')"
   ]
  },
  {
   "cell_type": "code",
   "execution_count": 4,
   "metadata": {},
   "outputs": [
    {
     "data": {
      "text/html": [
       "<div>\n",
       "<style scoped>\n",
       "    .dataframe tbody tr th:only-of-type {\n",
       "        vertical-align: middle;\n",
       "    }\n",
       "\n",
       "    .dataframe tbody tr th {\n",
       "        vertical-align: top;\n",
       "    }\n",
       "\n",
       "    .dataframe thead th {\n",
       "        text-align: right;\n",
       "    }\n",
       "</style>\n",
       "<table border=\"1\" class=\"dataframe\">\n",
       "  <thead>\n",
       "    <tr style=\"text-align: right;\">\n",
       "      <th></th>\n",
       "      <th>Source</th>\n",
       "      <th>Target</th>\n",
       "      <th>Score</th>\n",
       "      <th>Time</th>\n",
       "    </tr>\n",
       "  </thead>\n",
       "  <tbody>\n",
       "    <tr>\n",
       "      <th>0</th>\n",
       "      <td>6</td>\n",
       "      <td>2</td>\n",
       "      <td>4</td>\n",
       "      <td>1.289242e+09</td>\n",
       "    </tr>\n",
       "    <tr>\n",
       "      <th>1</th>\n",
       "      <td>6</td>\n",
       "      <td>5</td>\n",
       "      <td>2</td>\n",
       "      <td>1.289242e+09</td>\n",
       "    </tr>\n",
       "    <tr>\n",
       "      <th>2</th>\n",
       "      <td>1</td>\n",
       "      <td>15</td>\n",
       "      <td>1</td>\n",
       "      <td>1.289243e+09</td>\n",
       "    </tr>\n",
       "    <tr>\n",
       "      <th>3</th>\n",
       "      <td>4</td>\n",
       "      <td>3</td>\n",
       "      <td>7</td>\n",
       "      <td>1.289245e+09</td>\n",
       "    </tr>\n",
       "    <tr>\n",
       "      <th>4</th>\n",
       "      <td>13</td>\n",
       "      <td>16</td>\n",
       "      <td>8</td>\n",
       "      <td>1.289254e+09</td>\n",
       "    </tr>\n",
       "  </tbody>\n",
       "</table>\n",
       "</div>"
      ],
      "text/plain": [
       "   Source  Target  Score          Time\n",
       "0       6       2      4  1.289242e+09\n",
       "1       6       5      2  1.289242e+09\n",
       "2       1      15      1  1.289243e+09\n",
       "3       4       3      7  1.289245e+09\n",
       "4      13      16      8  1.289254e+09"
      ]
     },
     "execution_count": 4,
     "metadata": {},
     "output_type": "execute_result"
    }
   ],
   "source": [
    "data.head()"
   ]
  },
  {
   "cell_type": "markdown",
   "metadata": {},
   "source": [
    "<h0 align=left><font size = 3>For instance I won't use the Time information as I will consider all scoring was on the same time for eveyone </font></h0>"
   ]
  },
  {
   "cell_type": "code",
   "execution_count": 5,
   "metadata": {},
   "outputs": [
    {
     "data": {
      "text/plain": [
       "Index(['Source', 'Target', 'Score', 'Time'], dtype='object')"
      ]
     },
     "execution_count": 5,
     "metadata": {},
     "output_type": "execute_result"
    }
   ],
   "source": [
    "data.columns"
   ]
  },
  {
   "cell_type": "code",
   "execution_count": 6,
   "metadata": {},
   "outputs": [],
   "source": [
    "data.drop('Time', axis = 1,inplace = True)"
   ]
  },
  {
   "cell_type": "code",
   "execution_count": 7,
   "metadata": {},
   "outputs": [
    {
     "name": "stdout",
     "output_type": "stream",
     "text": [
      "The data size is : (35592, 3) \n"
     ]
    }
   ],
   "source": [
    "print(\"The data size is : {} \".format(data.shape))"
   ]
  },
  {
   "cell_type": "markdown",
   "metadata": {},
   "source": [
    "## Graph construction "
   ]
  },
  {
   "cell_type": "code",
   "execution_count": 8,
   "metadata": {},
   "outputs": [],
   "source": [
    "import networkx as nx"
   ]
  },
  {
   "cell_type": "code",
   "execution_count": 9,
   "metadata": {},
   "outputs": [],
   "source": [
    "data_array=np.array(data)"
   ]
  },
  {
   "cell_type": "code",
   "execution_count": 10,
   "metadata": {},
   "outputs": [],
   "source": [
    "G=nx.DiGraph()"
   ]
  },
  {
   "cell_type": "code",
   "execution_count": 11,
   "metadata": {},
   "outputs": [
    {
     "data": {
      "text/plain": [
       "35592"
      ]
     },
     "execution_count": 11,
     "metadata": {},
     "output_type": "execute_result"
    }
   ],
   "source": [
    "data_array.shape[0]"
   ]
  },
  {
   "cell_type": "code",
   "execution_count": 12,
   "metadata": {},
   "outputs": [],
   "source": [
    "for i in range (data_array.shape[0]): \n",
    "    G.add_edge(data_array[i][0],data_array[i][1],score=data_array[i][2])"
   ]
  },
  {
   "cell_type": "code",
   "execution_count": 13,
   "metadata": {},
   "outputs": [
    {
     "data": {
      "text/plain": [
       "True"
      ]
     },
     "execution_count": 13,
     "metadata": {},
     "output_type": "execute_result"
    }
   ],
   "source": [
    "G.is_directed()"
   ]
  },
  {
   "cell_type": "code",
   "execution_count": 14,
   "metadata": {},
   "outputs": [
    {
     "data": {
      "text/plain": [
       "5881"
      ]
     },
     "execution_count": 14,
     "metadata": {},
     "output_type": "execute_result"
    }
   ],
   "source": [
    "G.number_of_nodes()"
   ]
  },
  {
   "cell_type": "code",
   "execution_count": 15,
   "metadata": {},
   "outputs": [
    {
     "data": {
      "text/plain": [
       "35592"
      ]
     },
     "execution_count": 15,
     "metadata": {},
     "output_type": "execute_result"
    }
   ],
   "source": [
    "G.number_of_edges()"
   ]
  },
  {
   "cell_type": "raw",
   "metadata": {},
   "source": [
    "draw_graph(G)"
   ]
  },
  {
   "cell_type": "markdown",
   "metadata": {},
   "source": [
    "## ScoingRank Algorithm "
   ]
  },
  {
   "cell_type": "code",
   "execution_count": 16,
   "metadata": {},
   "outputs": [],
   "source": [
    "def top_percent_page_rank(G , per = 0.02):\n",
    "    page_rank = nx.pagerank(G, alpha=0.85, personalization=None, max_iter=100, tol=1e-06, nstart=None, weight=None, dangling=None)\n",
    "\n",
    "    lis=[]\n",
    "    dic = dict(page_rank)\n",
    "\n",
    "    #Top per of the data \n",
    "    n= int(per * G.number_of_nodes())\n",
    "\n",
    "    for i in range (0,n) :\n",
    "        maximum = 0 \n",
    "        node = 0\n",
    "        for elt in dic : \n",
    "            if dic[elt]> maximum  : \n",
    "                maximum = dic[elt]\n",
    "                node = elt\n",
    "            \n",
    "        del dic[node]\n",
    "        lis.append(node)\n",
    "    lis_degree=lis\n",
    "    #print(lis_degree)\n",
    "    return lis_degree"
   ]
  },
  {
   "cell_type": "code",
   "execution_count": 23,
   "metadata": {},
   "outputs": [],
   "source": [
    "def top_percent_hub (G , per = 0.02):\n",
    "    hub,auth =nx.hits(G, max_iter=100, tol=1e-08, nstart=None, normalized=True)\n",
    "    \n",
    "    lis=[]\n",
    "    dic = dict(hub)\n",
    "\n",
    "    #Top per of the data \n",
    "    n= int(per * G.number_of_nodes())\n",
    "\n",
    "    for i in range (0,n) :\n",
    "        maximum = 0 \n",
    "        node = 0\n",
    "        for elt in dic : \n",
    "            if dic[elt]> maximum  : \n",
    "                maximum = dic[elt]\n",
    "                node = elt\n",
    "            \n",
    "        del dic[node]\n",
    "        lis.append(node)\n",
    "    lis_degree=lis\n",
    "    #print(lis_degree)\n",
    "    return lis_degree"
   ]
  },
  {
   "cell_type": "code",
   "execution_count": 4,
   "metadata": {},
   "outputs": [
    {
     "name": "stdout",
     "output_type": "stream",
     "text": [
      "scoringRank (G,alpha=0.85,betta=3,gamma=0.8,num_iter=3,sigma=0,zetta=5)\n"
     ]
    }
   ],
   "source": [
    "print('scoringRank (G,alpha=0.85,betta=3,gamma=0.8,num_iter=3,sigma=0,zetta=5)')"
   ]
  },
  {
   "cell_type": "code",
   "execution_count": 17,
   "metadata": {},
   "outputs": [],
   "source": [
    "def scoringRank (G,alpha=0.85,betta=3,gamma=0.8,num_iter=3,sigma=0,zetta=5) : \n",
    "    # alpha , the percentage taken from the received score from non popular nodes\n",
    "    # betta , threshold that defines the minimum of in_degree to calculate the trust \n",
    "    # gamma, the percentage of nodes that are considered as specially popular \n",
    "    # num_iter, number of iterations to claculate the reusrive part of the the second step of the algo\n",
    "    \n",
    "    \n",
    "    # initialisation the trust score to 0 \n",
    "    for node in G.nodes():\n",
    "        G.nodes[node]['trust']=0\n",
    "\n",
    "    # making the trust score the sum of all the scores \n",
    "    for edge in G.edges(data=True) : \n",
    "        G.nodes[edge[1]]['trust']=G.nodes[edge[1]]['trust']+edge[2]['score']\n",
    "\n",
    "    # considering the mean not the sum \n",
    "    for node in G.nodes():\n",
    "        if (G.in_degree(node) >= betta):\n",
    "            G.nodes[node]['trust']= G.nodes[node]['trust'] / (G.in_degree(node))\n",
    "        else :\n",
    "            G.nodes[node]['trust']= 0\n",
    "\n",
    "    \n",
    "    \n",
    "    ###  Step 2 : Considering the initial score of the person who scored\n",
    "    i=1\n",
    "    while i<=num_iter :\n",
    "        # initialisation the trust_2 score to 0 \n",
    "        dic = {}\n",
    "        for node in G.nodes():\n",
    "            dic[node]=0\n",
    "        # calculating trust_2 (considering trust_1 and the received scores )\n",
    "        for edge in G.edges(data=True) : \n",
    "            if G.nodes[edge[0]]['trust'] > 0 : \n",
    "                if G.in_degree(edge[1]) >= betta :  \n",
    "                    dic[edge[1]]=dic[edge[1]]+(edge[2]['score']/(G.in_degree(edge[1])))\n",
    "        # trust receives trust_2\n",
    "        for node in G.nodes() : \n",
    "            G.nodes[node]['trust']=dic[node]\n",
    "        i=i+1 \n",
    "\n",
    "    \n",
    "    \n",
    "    ### Step 3 : Giving greater importance to the nodes who are most popular \n",
    "    # scaled\n",
    "    if sigma == 0 :\n",
    "        list_popular_nodes= top_percent_page_rank(G , per = gamma) \n",
    "    elif sigma ==1 : \n",
    "        list_popular_nodes= top_percent_hub (G , per = gamma)\n",
    "\n",
    "    dic = {}\n",
    "    for node in G.nodes():\n",
    "        dic[node]=0\n",
    "\n",
    "    # calculating trust_2 (considering trust_1 and the received scores )\n",
    "    for edge in G.edges(data=True) : \n",
    "        if G.nodes[edge[0]]['trust'] > 0 : \n",
    "            if G.in_degree(edge[1]) >= betta :  \n",
    "                if edge[0] in list_popular_nodes : \n",
    "                    dic[edge[1]]=dic[edge[1]]+(edge[2]['score']*(2-alpha)/(G.in_degree(edge[1])))\n",
    "                else : \n",
    "                    dic[edge[1]]=dic[edge[1]]+((edge[2]['score']*alpha)/(G.in_degree(edge[1])))\n",
    "\n",
    "    # trust receives dic values \n",
    "    for node in G.nodes() : \n",
    "        if zetta > 0 :\n",
    "            G.nodes[node]['trust']=round(dic[node],zetta)\n",
    "        elif zetta == 0 : \n",
    "            G.nodes[node]['trust']=int(round(dic[node],zetta))\n",
    "        \n",
    "    return dict(G.nodes(data=True))"
   ]
  },
  {
   "cell_type": "raw",
   "metadata": {},
   "source": [
    "dict(G.nodes(data=True));"
   ]
  },
  {
   "cell_type": "markdown",
   "metadata": {},
   "source": [
    "<h0 align=left><font size = 3> \n",
    "    * alpha    (0.85)  : the percentage taken from the received score from non popular nodes\n",
    "    * betta    (3)    : threshold that defines the minimum of in_degree to calculate the trust \n",
    "    * gamma    (0.8)  : the percentage of nodes that are considered as specially popular \n",
    "    * num_iter (3)    : number of iterations to claculate the reusrive part of the the second step of the algo . \n",
    "    * sigma    (0/1)  : Using which algorithm to classify the centrality of the node , pageRank = 0 , hub = 1\n",
    "    * zetta    (0)    : Number of digits after the vergule \n",
    "   </font></h0>"
   ]
  },
  {
   "cell_type": "raw",
   "metadata": {},
   "source": [
    "scoringRank (G,alpha=0.8,betta=3,gamma=0.3,num_iter=3,sigma=0,zetta=0)"
   ]
  }
 ],
 "metadata": {
  "kernelspec": {
   "display_name": "Python 3",
   "language": "python",
   "name": "python3"
  },
  "language_info": {
   "codemirror_mode": {
    "name": "ipython",
    "version": 3
   },
   "file_extension": ".py",
   "mimetype": "text/x-python",
   "name": "python",
   "nbconvert_exporter": "python",
   "pygments_lexer": "ipython3",
   "version": "3.7.3"
  }
 },
 "nbformat": 4,
 "nbformat_minor": 2
}
